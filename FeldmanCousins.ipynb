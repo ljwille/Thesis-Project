{
 "cells": [
  {
   "cell_type": "markdown",
   "metadata": {},
   "source": [
    "This code calculates the Feldman-Cousins critical value for 90% confidence interval. This is needed due to low statistics and edge boundary. Please see https://arxiv.org/abs/physics/9711021 for more information on process.\n",
    "\n",
    "To calculate the critical values, many data challenge trials using simulated data need to be fit. Each data challenge trial is let fit in the same method as the analysis and then fit again fixing the parameters to the input values to create the trial. The difference between the fit log-likelihoods between these two fits are calculated for each trial. The distribution of these differences are used to find the 90% containment for each injected parameter. The value that corresponds to the 90% containment is the new critical value for finding the 90% confidence interval of the analysis."
   ]
  },
  {
   "cell_type": "code",
   "execution_count": 1,
   "metadata": {},
   "outputs": [],
   "source": [
    "import numpy as np\n",
    "import numpy.ma as ma\n",
    "import matplotlib.pyplot as plt\n",
    "import plottertools\n",
    "import matplotlib.text as txt\n",
    "from matplotlib.colors import LogNorm\n",
    "from matplotlib import gridspec\n",
    "plt.rcParams.update({'font.size': 18})\n",
    "import glob\n",
    "import sys\n",
    "\n",
    "%matplotlib inline\n",
    "def logsum(arr):\n",
    "    return np.log10(np.sum(arr))"
   ]
  },
  {
   "cell_type": "code",
   "execution_count": 2,
   "metadata": {
    "collapsed": true
   },
   "outputs": [
    {
     "name": "stdout",
     "output_type": "stream",
     "text": [
      "/data/user/lwille/FC/FC219/FC1.0\n",
      "/data/user/lwille/FC/FC219/FC10.0\n",
      "/data/user/lwille/FC/FC219/FC11.0\n",
      "/data/user/lwille/FC/FC219/FC12.0\n",
      "/data/user/lwille/FC/FC219/FC13.0\n",
      "/data/user/lwille/FC/FC219/FC14.0\n",
      "/data/user/lwille/FC/FC219/FC15.0\n",
      "/data/user/lwille/FC/FC219/FC16.0\n",
      "/data/user/lwille/FC/FC219/FC17.0\n",
      "/data/user/lwille/FC/FC219/FC18.0\n",
      "/data/user/lwille/FC/FC219/FC19.0\n",
      "/data/user/lwille/FC/FC219/FC2.0\n",
      "/data/user/lwille/FC/FC219/FC20.0\n",
      "/data/user/lwille/FC/FC219/FC21.0\n",
      "/data/user/lwille/FC/FC219/FC22.0\n",
      "/data/user/lwille/FC/FC219/FC23.0\n",
      "/data/user/lwille/FC/FC219/FC24.0\n",
      "/data/user/lwille/FC/FC219/FC25.0\n",
      "/data/user/lwille/FC/FC219/FC26.0\n",
      "/data/user/lwille/FC/FC219/FC27.0\n",
      "/data/user/lwille/FC/FC219/FC28.0\n",
      "/data/user/lwille/FC/FC219/FC29.0\n",
      "/data/user/lwille/FC/FC219/FC3.0\n",
      "/data/user/lwille/FC/FC219/FC30.0\n",
      "/data/user/lwille/FC/FC219/FC31.0\n",
      "/data/user/lwille/FC/FC219/FC32.0\n",
      "/data/user/lwille/FC/FC219/FC33.0\n",
      "/data/user/lwille/FC/FC219/FC34.0\n",
      "/data/user/lwille/FC/FC219/FC35.0\n",
      "/data/user/lwille/FC/FC219/FC36.0\n",
      "/data/user/lwille/FC/FC219/FC37.0\n",
      "/data/user/lwille/FC/FC219/FC38.0\n",
      "/data/user/lwille/FC/FC219/FC39.0\n",
      "/data/user/lwille/FC/FC219/FC4.0\n",
      "/data/user/lwille/FC/FC219/FC40.0\n",
      "/data/user/lwille/FC/FC219/FC41.0\n",
      "/data/user/lwille/FC/FC219/FC42.0\n",
      "/data/user/lwille/FC/FC219/FC43.0\n",
      "/data/user/lwille/FC/FC219/FC44.0\n",
      "/data/user/lwille/FC/FC219/FC45.0\n",
      "/data/user/lwille/FC/FC219/FC46.0\n",
      "/data/user/lwille/FC/FC219/FC47.0\n",
      "/data/user/lwille/FC/FC219/FC48.0\n",
      "/data/user/lwille/FC/FC219/FC49.0\n",
      "/data/user/lwille/FC/FC219/FC5.0\n",
      "/data/user/lwille/FC/FC219/FC50.0\n",
      "/data/user/lwille/FC/FC219/FC51.0\n",
      "/data/user/lwille/FC/FC219/FC52.0\n",
      "/data/user/lwille/FC/FC219/FC53.0\n",
      "/data/user/lwille/FC/FC219/FC54.0\n",
      "/data/user/lwille/FC/FC219/FC55.0\n",
      "/data/user/lwille/FC/FC219/FC56.0\n",
      "/data/user/lwille/FC/FC219/FC57.0\n",
      "/data/user/lwille/FC/FC219/FC58.0\n",
      "/data/user/lwille/FC/FC219/FC59.0\n",
      "/data/user/lwille/FC/FC219/FC6.0\n",
      "/data/user/lwille/FC/FC219/FC60.0\n",
      "/data/user/lwille/FC/FC219/FC61.0\n",
      "/data/user/lwille/FC/FC219/FC62.0\n",
      "/data/user/lwille/FC/FC219/FC63.0\n",
      "/data/user/lwille/FC/FC219/FC64.0\n",
      "/data/user/lwille/FC/FC219/FC65.0\n",
      "/data/user/lwille/FC/FC219/FC66.0\n",
      "/data/user/lwille/FC/FC219/FC67.0\n",
      "/data/user/lwille/FC/FC219/FC68.0\n",
      "/data/user/lwille/FC/FC219/FC69.0\n",
      "/data/user/lwille/FC/FC219/FC7.0\n",
      "/data/user/lwille/FC/FC219/FC70.0\n",
      "/data/user/lwille/FC/FC219/FC71.0\n",
      "/data/user/lwille/FC/FC219/FC72.0\n",
      "/data/user/lwille/FC/FC219/FC73.0\n",
      "/data/user/lwille/FC/FC219/FC74.0\n",
      "/data/user/lwille/FC/FC219/FC75.0\n",
      "/data/user/lwille/FC/FC219/FC76.0\n",
      "/data/user/lwille/FC/FC219/FC77.0\n",
      "/data/user/lwille/FC/FC219/FC78.0\n",
      "/data/user/lwille/FC/FC219/FC79.0\n",
      "/data/user/lwille/FC/FC219/FC8.0\n",
      "/data/user/lwille/FC/FC219/FC80.0\n",
      "/data/user/lwille/FC/FC219/FC81.0\n",
      "/data/user/lwille/FC/FC219/FC82.0\n",
      "/data/user/lwille/FC/FC219/FC83.0\n",
      "/data/user/lwille/FC/FC219/FC84.0\n",
      "/data/user/lwille/FC/FC219/FC85.0\n",
      "/data/user/lwille/FC/FC219/FC86.0\n",
      "/data/user/lwille/FC/FC219/FC87.0\n",
      "/data/user/lwille/FC/FC219/FC88.0\n",
      "/data/user/lwille/FC/FC219/FC89.0\n",
      "/data/user/lwille/FC/FC219/FC9.0\n",
      "/data/user/lwille/FC/FC219/FC90.0\n",
      "/data/user/lwille/FC/FC219/FC91.0\n",
      "/data/user/lwille/FC/FC219/FC92.0\n",
      "/data/user/lwille/FC/FC219/FC93.0\n",
      "/data/user/lwille/FC/FC219/FC94.0\n",
      "/data/user/lwille/FC/FC219/FC95.0\n",
      "/data/user/lwille/FC/FC219/FC96.0\n",
      "/data/user/lwille/FC/FC219/FC97.0\n",
      "/data/user/lwille/FC/FC219/FC98.0\n",
      "/data/user/lwille/FC/FC219/FC99.0\n"
     ]
    }
   ],
   "source": [
    "#Load in fits performed on simulated data challenge trials. \n",
    "\n",
    "files=glob.glob(\"/data/user/lwille/FC/FC219/*\")\n",
    "files.sort()\n",
    "\n",
    "FC219 = {}\n",
    "\n",
    "#Reading in log-likelihood differences between the two fits.\n",
    "#Discard fits that failed. Fits can fail due to a number of reasons, usually fixed by changing initial fit guess.\n",
    "for f in files:\n",
    "    print f\n",
    "    x = np.loadtxt(f, dtype=str, delimiter='|')\n",
    "    delta = np.zeros(10000)\n",
    "\n",
    "    for i, item in enumerate(x[51::54]):\n",
    "        try:\n",
    "            if float(item[12:]) > 0:\n",
    "                delta[i] = float(item[12:])\n",
    "        except:\n",
    "            print item\n",
    "    for i, item in enumerate(x[20::54]):\n",
    "        try:\n",
    "            if float(item[12:]) > 0:\n",
    "                delta[i] += -float(item[12:])\n",
    "            else:\n",
    "                delta[i] = -1\n",
    "        except:\n",
    "            print item\n",
    "    tempname = x[0]\n",
    "    FC219[f[29::]] = delta"
   ]
  },
  {
   "cell_type": "code",
   "execution_count": 12,
   "metadata": {},
   "outputs": [
    {
     "name": "stdout",
     "output_type": "stream",
     "text": [
      "/data/user/lwille/FC/219scan.txt\n"
     ]
    }
   ],
   "source": [
    "files=glob.glob(\"/data/user/lwille/FC/219*.txt\")\n",
    "files.sort()\n",
    "\n",
    "profiles = {}\n",
    "\n",
    "#Reading in the likelihood parameter space scan for the real data analysis.\n",
    "for f in files:\n",
    "    print f\n",
    "    x = np.loadtxt(f, dtype=str, delimiter='|')\n",
    "    LLH = np.zeros((2,101))\n",
    "    for i, item in enumerate(x[32::21]):\n",
    "        LLH[0,i] = float(item[:-8].split(' ')[2])\n",
    "\n",
    "    for i, item in enumerate(x[33::21]):\n",
    "        LLH[1,i] = float(item[12:])\n",
    "    tempname = x[0]\n",
    "    profiles[f[21:-8:]] = LLH"
   ]
  },
  {
   "cell_type": "code",
   "execution_count": 5,
   "metadata": {},
   "outputs": [],
   "source": [
    "#Finding the parameter dependant 90% confidence interval critical value.\n",
    "\n",
    "deltaLLh219 = np.zeros((2,99))\n",
    "for j, norm in enumerate(FC219.keys()):\n",
    "    bins = np.linspace(0,np.max(FC219[norm]),10000)\n",
    "    entry = np.digitize(FC219[norm],bins)\n",
    "\n",
    "    binvalue = np.zeros(10000-1)\n",
    "\n",
    "    for i, item in enumerate(entry):\n",
    "        if item == 0 or item == len(bins):\n",
    "            continue\n",
    "        binvalue[item-1] += 1\n",
    "    for i, item in enumerate(np.cumsum(binvalue)):\n",
    "        if item > 0.9*np.sum(binvalue):\n",
    "            deltaLLh219[0,j] = np.float(norm)\n",
    "            deltaLLh219[1,j] = bins[i]\n",
    "            break\n"
   ]
  },
  {
   "cell_type": "code",
   "execution_count": 17,
   "metadata": {},
   "outputs": [
    {
     "data": {
      "image/png": "[encoded data removed]",
      "text/plain": [
       "<matplotlib.figure.Figure at 0x7f9762be2a50>"
      ]
     },
     "metadata": {},
     "output_type": "display_data"
    }
   ],
   "source": [
    "#Plotting the Feldman-Cousins critical values and the likelihood scan of the analysis. The point where these two points cross over determines the 90% confidence interval.\n",
    "\n",
    "plt.rcParams.update({'font.size': 14})\n",
    "plt.figure(figsize=(9,9))\n",
    "\n",
    "plt.scatter(deltaLLh219[0]/10.,deltaLLh219[1],label='Feldman Cousin')\n",
    "plt.plot(profiles['219'][0]/10.,profiles['219'][1]-profiles['219'][1,0],color='black', label='Forward Folding Scan')\n",
    "plt.axvline(2.4,color='red',label = 'Upper Limit')\n",
    "plt.legend()\n",
    "plt.ylim(0,10)\n",
    "plt.xlim(1,3)\n",
    "plt.xlabel('NuTau Normalization (10^-18 GeV^-1 cm^-2 s^-1 sr^-1)')\n",
    "plt.ylabel('Delta LLH')\n",
    "#plt.savefig('FCscan29.pdf')\n",
    "plt.title('E^-2.19')\n",
    "plt.show()"
   ]
  },
  {
   "cell_type": "code",
   "execution_count": null,
   "metadata": {},
   "outputs": [],
   "source": []
  }
 ],
 "metadata": {
  "kernelspec": {
   "display_name": "Python 2",
   "language": "python",
   "name": "python2"
  },
  "language_info": {
   "codemirror_mode": {
    "name": "ipython",
    "version": 2
   },
   "file_extension": ".py",
   "mimetype": "text/x-python",
   "name": "python",
   "nbconvert_exporter": "python",
   "pygments_lexer": "ipython2",
   "version": "2.7.13"
  }
 },
 "nbformat": 4,
 "nbformat_minor": 2
}
